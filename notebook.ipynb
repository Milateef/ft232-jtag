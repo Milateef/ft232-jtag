{
 "metadata": {
  "name": "",
  "signature": "sha256:20dfe5f0d4aaa96dac8894a18e77ebc436df92fae146593cdcf7a60562e4921d"
 },
 "nbformat": 3,
 "nbformat_minor": 0,
 "worksheets": [
  {
   "cells": [
    {
     "cell_type": "markdown",
     "metadata": {},
     "source": [
      "We're using synchronous bitbang mode on the FT232R, which batches communications for extra speed. The procedure is:\n",
      "\n",
      "* Build the waveform\n",
      "\n",
      "* Output the whole thing\n",
      "\n",
      "* Read the response\n",
      "\n",
      "For every byte clocked out, the response will have a byte with the state of the input pins _before_ the output pins changed.\n",
      "The JTAG interface shifts bits out of TDO on the rising edge of TCK.\n",
      "Therefore, if we send a rising edge on byte N then we must read TDO on the response byte N+1.\n",
      "\n",
      "Atmega162 datasheet p. 250: \n",
      "\n",
      "    Programming through the JTAG interface requires control of the four JTAG specific pins: TCK,\n",
      "    the JTAG Interface TMS, TDI, and TDO. Control of the Reset and clock pins is not required\n",
      "\n",
      "<img src=\"files/pinout.svg\" />\n",
      "\n",
      "Let's connect the JTAG pins to FT232 data pins, leaving D0 and D1 free for serial communications later."
     ]
    },
    {
     "cell_type": "code",
     "collapsed": false,
     "input": [
      "from pylibftdi import BitBangDevice\n",
      "from pylibftdi.driver import BITMODE_SYNCBB\n",
      "TMS = 1 << 4\n",
      "TDI = 1 << 2\n",
      "TDO = 1 << 3\n",
      "TCK = 1 << 5\n",
      "dev = BitBangDevice(bitbang_mode=BITMODE_SYNCBB)\n",
      "dev.direction = TMS | TDI | TCK"
     ],
     "language": "python",
     "metadata": {},
     "outputs": [],
     "prompt_number": 90
    },
    {
     "cell_type": "markdown",
     "metadata": {},
     "source": [
      "First we test the driver, wiring and my understanding of this state diagram\n",
      "<img src=\"files/tapcontroller.svg\" />\n",
      "by reading the device identification register. The 1s and 0s show how the state transitions depend on TMS."
     ]
    },
    {
     "cell_type": "code",
     "collapsed": false,
     "input": [
      "stream = [0]\n",
      "def clock_in(bits):\n",
      "    \"\"\"Output bits then raise TCK. \n",
      "    Returns index of (input state after the rising TCK edge) in the response array.\"\"\"\n",
      "    stream.append(bits)\n",
      "    stream.append(bits+TCK)\n",
      "    return len(stream)\n",
      "\n",
      "# Take TAP controller from Test-Logic-Reset to Run-Test/Idle\n",
      "for ii in range(2):\n",
      "    clock_in(0)\n",
      "# Take TAP to Shift-IR\n",
      "for tms in [1,1,0,0]:\n",
      "    clock_in(tms * TMS)\n",
      "# Shift IDCODE (0x1) into IR\n",
      "for ir in [1,0,0,0]:\n",
      "    clock_in(ir * TDI)\n",
      "# MSB of IR is shifted with TMS high\n",
      "stream[-2] |= TMS\n",
      "stream[-1] |= TMS\n",
      "# Take TAP to Run-Test/Idle, then Shift-DR\n",
      "for tms in [1,0,1,0,0]:\n",
      "    clock_in(tms * TMS)\n",
      "# Shift out 32 bits of ID register\n",
      "for ii in range(32):\n",
      "    retindex = clock_in(0)\n",
      "stream[-1] |= TMS\n",
      "for tms in [1,0]:\n",
      "    clock_in(tms * TMS)\n",
      "clock_in(0)\n",
      "dev.flush()\n",
      "dev.write(bytearray(stream))\n",
      "ret = dev.read(len(stream)); len(ret)\n",
      "''.join(['01'[rr & TDO != 0] for rr in ret[retindex:retindex-64:-2]])"
     ],
     "language": "python",
     "metadata": {},
     "outputs": [
      {
       "metadata": {},
       "output_type": "pyout",
       "prompt_number": 2,
       "text": [
        "'01111001010000000100000000111111'"
       ]
      }
     ],
     "prompt_number": 2
    },
    {
     "cell_type": "markdown",
     "metadata": {},
     "source": [
      "Everything matches with the datasheet\n",
      "<img src=\"files/idcode.svg?a\" />\n",
      ", including the version 0x7 = revision H (matches date code).\n",
      "\n",
      "Let's package the previous sequence into a general use function."
     ]
    },
    {
     "cell_type": "code",
     "collapsed": false,
     "input": [
      "from math import ceil\n",
      "from enum import Enum\n",
      "class AVR_JTAG(Enum):\n",
      "    # (instruction register value, number of bits in selected data register)\n",
      "    IDCODE        = (0x1, 32)\n",
      "    PROG_ENABLE   = (0x4, 16)\n",
      "    PROG_COMMANDS = (0x5, 15)\n",
      "    PROG_PAGELOAD = (0x6, 1024)\n",
      "    PROG_PAGEREAD = (0x7, 1032)\n",
      "    AVR_RESET     = (0xC, 1)\n",
      "    BYPASS        = (0xF, 1)\n",
      "def jtag_command(instruction, data):\n",
      "    \"\"\"Set the instruction register, shift in bits from data, return the output bits\n",
      "    data[0] holds the least significant bits\"\"\"\n",
      "    if not isinstance(instruction, AVR_JTAG):\n",
      "        raise ValueError(\"instruction must be member of AVR_JTAG\")\n",
      "    irvalue = instruction.value[0]\n",
      "    nbits = instruction.value[1]\n",
      "    if isinstance(data, int):\n",
      "        data = data.to_bytes(ceil(nbits/8), 'little')\n",
      "    stream = [0]\n",
      "    IR_LENGTH = 4\n",
      "    def clock_in(bits):\n",
      "        \"\"\"Output bits then raise TCK. \n",
      "        Returns index of (input state after the rising TCK edge) in the response array.\"\"\"\n",
      "        stream.append(bits)\n",
      "        stream.append(bits+TCK)\n",
      "        return len(stream)\n",
      "    # Take TAP controller from Test-Logic-Reset to Run-Test/Idle\n",
      "    for ii in range(2):\n",
      "        clock_in(0)\n",
      "    # Take TAP to Shift-IR\n",
      "    for tms in [1,1,0,0]:\n",
      "        clock_in(tms * TMS)\n",
      "    # Shift IDCODE (0x1) into IR\n",
      "    for bit in range(IR_LENGTH):\n",
      "        clock_in((irvalue & 1) * TDI)\n",
      "        irvalue >>= 1\n",
      "    # MSB of IR is shifted with TMS high\n",
      "    stream[-2] |= TMS\n",
      "    stream[-1] |= TMS\n",
      "    # Take TAP to Run-Test/Idle, then Shift-DR\n",
      "    for tms in [1,0,1,0,0]:\n",
      "        clock_in(tms * TMS)\n",
      "    # Shift out nbits of data register\n",
      "    # data[0] is LSB\n",
      "    retindex = None\n",
      "    for bit in range(nbits):\n",
      "        byte = int(bit / 8)\n",
      "        if byte < len(data):\n",
      "            ret = clock_in(TDI*bool(\n",
      "                (data[byte] >> (bit%8)) & 1))\n",
      "        else:\n",
      "            # Pad with zeros\n",
      "            ret = clock_in(0)\n",
      "        if bit == 0:\n",
      "            retindex = ret\n",
      "        #data[int(bit / 8)] >>= 1\n",
      "    # MSB of DR is shifted with TMS high\n",
      "    stream[-2] |= TMS\n",
      "    stream[-1] |= TMS\n",
      "    # Take TAP to Run-Test/Idle\n",
      "    for tms in [1,0]:\n",
      "        clock_in(tms * TMS)\n",
      "    clock_in(0)\n",
      "    dev.flush()\n",
      "    # Return buffer\n",
      "    bytes = bytearray(ceil(nbits / 8))\n",
      "    CHUNK_SIZE = 256\n",
      "    read = []\n",
      "    for offset in range(0, len(stream), CHUNK_SIZE):\n",
      "        written = dev.write(bytearray(stream[offset:offset+CHUNK_SIZE]))\n",
      "        read.append(dev.read(written))\n",
      "    ret = b''.join(read)\n",
      "    for bit in range(nbits):\n",
      "        bytes[int(bit / 8)] |= bool(ret[retindex + 2 * bit] & TDO) << (bit % 8)\n",
      "    return bytes\n",
      "idregister = jtag_command(AVR_JTAG.IDCODE, bytearray(4))\n",
      "''.join('{:02x}'.format(bb) for bb in idregister[::-1])"
     ],
     "language": "python",
     "metadata": {},
     "outputs": [
      {
       "metadata": {},
       "output_type": "pyout",
       "prompt_number": 3,
       "text": [
        "'7940403f'"
       ]
      }
     ],
     "prompt_number": 3
    },
    {
     "cell_type": "markdown",
     "metadata": {},
     "source": [
      "Let's try reading a page from Flash (p. 261)\n",
      "\n",
      "<img src=\"files/flashread.png\" width=\"600\">"
     ]
    },
    {
     "cell_type": "code",
     "collapsed": false,
     "input": [
      "jtag_command(AVR_JTAG.AVR_RESET, 1)\n",
      "jtag_command(AVR_JTAG.PROG_ENABLE, 0xA370)\n",
      "jtag_command(AVR_JTAG.PROG_COMMANDS, 0x2302) # Enter Flash Read\n",
      "jtag_command(AVR_JTAG.PROG_COMMANDS, 0x0700) # Load Address High Byte\n",
      "jtag_command(AVR_JTAG.PROG_COMMANDS, 0x0300) # Load Address Low Byte\n",
      "page = jtag_command(AVR_JTAG.PROG_PAGEREAD, 0)[1:]\n",
      "page2 = bytearray(len(page))\n",
      "for address in range(int(len(page2)/2)):\n",
      "    jtag_command(AVR_JTAG.PROG_COMMANDS, 0x0700)\n",
      "    jtag_command(AVR_JTAG.PROG_COMMANDS, 0x0300+address)\n",
      "    jtag_command(AVR_JTAG.PROG_COMMANDS, 0x3200)\n",
      "    page2[2*address] = jtag_command(AVR_JTAG.PROG_COMMANDS, 0x3600)[0]\n",
      "    page2[2*address+1] = jtag_command(AVR_JTAG.PROG_COMMANDS, 0x3700)[0]\n",
      "page == page2"
     ],
     "language": "python",
     "metadata": {},
     "outputs": [
      {
       "metadata": {},
       "output_type": "pyout",
       "prompt_number": 4,
       "text": [
        "True"
       ]
      }
     ],
     "prompt_number": 4
    },
    {
     "cell_type": "markdown",
     "metadata": {},
     "source": [
      "Now let's write a program to blink a LED. \n",
      "We'll just have a 2 byte counter and output the MSB on PORTB.\n",
      "Since we're not setting the direction, the port pins will toggle between high-impedance and a 20k\u03a9 pull-up.\n",
      "This means we can connect the LED directly between the port pin and ground.\n",
      "\n",
      "    ; FILE blink.S\n",
      "    #include <avr/io.h>\n",
      "    loop:   adiw r24,1                    ; Add 1 to r25:r24 \n",
      "            out _SFR_IO_ADDR(PORTB), r25  ; Write MSB to PORTB\n",
      "            rjmp loop                     ; Repeat \n",
      "\n",
      "We automate assembly and linking with Make:\n",
      "\n",
      "    # FILE Makefile\n",
      "    CC=avr-gcc\n",
      "    LD=avr-ld\n",
      "    ASFLAGS=-mmcu=atmega162 -Wa,--gen-debug\n",
      "    LDFLAGS=-nostdlib\n",
      "\n",
      "    OBJ=blink\n",
      "\n",
      "    all: $(OBJ)\n",
      "\n",
      "    .PHONY: dump clean\n",
      "\n",
      "    dump:\n",
      "        LANG=EN avr-objdump -d $(OBJ)\n",
      "\n",
      "    clean:\n",
      "        rm -rf $(OBJ)\n",
      "\n",
      "Assemble and link `blink.S`\n",
      "\n",
      "    $ make\n",
      "    avr-gcc -mmcu=atmega162 -Wa,--gen-debug  -nostdlib  blink.S   -o blink\n",
      "    \n",
      "We can look at the machine code using `avr-objdump`:\n",
      "\n",
      "    $ avr-objdump -d blink\n",
      "    LANG=EN avr-objdump -d blink\n",
      "\n",
      "    blink:     file format elf32-avr\n",
      "\n",
      "\n",
      "    Disassembly of section .text:\n",
      "\n",
      "    00000000 <__ctors_end>:\n",
      "       0:   01 96           adiw    r24, 0x01       ; 1\n",
      "       2:   98 bb           out     0x18, r25       ; 24\n",
      "       4:   fd cf           rjmp    .-6             ; 0x0 <__ctors_end>\n",
      "\n",
      "Our program boils down to the machine code `0x019698bbfdcf`. \n",
      "Let's write it to Flash, following the instructions in the datasheet (p. 260)"
     ]
    },
    {
     "cell_type": "code",
     "collapsed": false,
     "input": [
      "from time import sleep\n",
      "program = 0xcffdbb989601 # Reversed byte order due to endianness\n",
      "jtag_command(AVR_JTAG.AVR_RESET, 1)\n",
      "jtag_command(AVR_JTAG.PROG_ENABLE, 0xA370)\n",
      "jtag_command(AVR_JTAG.PROG_COMMANDS, 0x2380) # Chip Erase\n",
      "jtag_command(AVR_JTAG.PROG_COMMANDS, 0x3180) # Chip Erase\n",
      "jtag_command(AVR_JTAG.PROG_COMMANDS, 0x3380) # Chip Erase\n",
      "jtag_command(AVR_JTAG.PROG_COMMANDS, 0x3380) # Chip Erase\n",
      "sleep(10e-3) # Wait for chip erase\n",
      "jtag_command(AVR_JTAG.PROG_COMMANDS, 0x2310) # Enter Flash Write\n",
      "jtag_command(AVR_JTAG.PROG_COMMANDS, 0x0700) # Load Address High Byte\n",
      "jtag_command(AVR_JTAG.PROG_COMMANDS, 0x0300) # Load Address Low Byte\n",
      "jtag_command(AVR_JTAG.PROG_PAGELOAD, program)\n",
      "jtag_command(AVR_JTAG.PROG_COMMANDS, 0x3700) # Write Flash Page\n",
      "jtag_command(AVR_JTAG.PROG_COMMANDS, 0x3500) # Write Flash Page\n",
      "jtag_command(AVR_JTAG.PROG_COMMANDS, 0x3700) # Write Flash Page\n",
      "jtag_command(AVR_JTAG.PROG_COMMANDS, 0x3700) # Write Flash Page\n",
      "sleep(5e-3) # Wait for Flash write\n",
      "jtag_command(AVR_JTAG.PROG_COMMANDS, 0x2302) # Enter Flash Read\n",
      "jtag_command(AVR_JTAG.PROG_COMMANDS, 0x0700) # Load Address High Byte\n",
      "jtag_command(AVR_JTAG.PROG_COMMANDS, 0x0300) # Load Address Low Byte\n",
      "pagenew = jtag_command(AVR_JTAG.PROG_PAGEREAD, 0)[1:]\n",
      "jtag_command(AVR_JTAG.PROG_COMMANDS, 0x2300) # Exit Programming Mode\n",
      "jtag_command(AVR_JTAG.PROG_COMMANDS, 0x3300) # Exit Programming Mode\n",
      "jtag_command(AVR_JTAG.PROG_ENABLE, 0)\n",
      "jtag_command(AVR_JTAG.AVR_RESET, 0)\n",
      "# Verify\n",
      "int.from_bytes(pagenew[:int(program.bit_length()/8)], 'little')==program"
     ],
     "language": "python",
     "metadata": {},
     "outputs": [
      {
       "metadata": {},
       "output_type": "pyout",
       "prompt_number": 5,
       "text": [
        "True"
       ]
      }
     ],
     "prompt_number": 5
    },
    {
     "cell_type": "markdown",
     "metadata": {},
     "source": [
      "The program works, although it's blinking almost too fast to tell.\n",
      "\n",
      "We'd like to avoid typing machine code by hand. \n",
      "Let's have a function read the output's `.text` section and write that into Flash:"
     ]
    },
    {
     "cell_type": "code",
     "collapsed": false,
     "input": [
      "from elftools.elf.elffile import ELFFile\n",
      "def program_elf(file, verify=True):\n",
      "    \"\"\"Write executable into atmega162 program memory. Example:\n",
      "    \n",
      "        >>> program('elffile')\n",
      "    \"\"\"\n",
      "    elf = ELFFile(open(file, 'rb'))\n",
      "    program = elf.get_section_by_name(b'.text').data()\n",
      "    jtag_command(AVR_JTAG.AVR_RESET, 1)\n",
      "    jtag_command(AVR_JTAG.PROG_ENABLE, 0xA370)\n",
      "     # Chip Erase\n",
      "    jtag_command(AVR_JTAG.PROG_COMMANDS, 0x2380)\n",
      "    jtag_command(AVR_JTAG.PROG_COMMANDS, 0x3180)\n",
      "    jtag_command(AVR_JTAG.PROG_COMMANDS, 0x3380) \n",
      "    jtag_command(AVR_JTAG.PROG_COMMANDS, 0x3380)\n",
      "    sleep(10e-3) # Wait for chip erase\n",
      "    jtag_command(AVR_JTAG.PROG_COMMANDS, 0x2310) # Enter Flash Write\n",
      "    PAGE_BYTES = int(1024 / 8)\n",
      "    for offset in range(0, len(program), PAGE_BYTES):\n",
      "        address = offset >> 1 # Flash words are 2 bytes\n",
      "        jtag_command(AVR_JTAG.PROG_COMMANDS, 0x0700 | (address>>8) & 0xff) # Load Address High Byte\n",
      "        jtag_command(AVR_JTAG.PROG_COMMANDS, 0x0300 | address & 0xff) # Load Address Low Byte\n",
      "        jtag_command(AVR_JTAG.PROG_PAGELOAD, program[offset:offset+PAGE_BYTES])\n",
      "         # Write Flash Page\n",
      "        jtag_command(AVR_JTAG.PROG_COMMANDS, 0x3700)\n",
      "        jtag_command(AVR_JTAG.PROG_COMMANDS, 0x3500)\n",
      "        jtag_command(AVR_JTAG.PROG_COMMANDS, 0x3700)\n",
      "        jtag_command(AVR_JTAG.PROG_COMMANDS, 0x3700)\n",
      "        sleep(10e-3) # Wait for Flash write\n",
      "    if verify:\n",
      "        jtag_command(AVR_JTAG.PROG_COMMANDS, 0x2302) # Enter Flash Read\n",
      "        for offset in range(0, len(program), PAGE_BYTES):\n",
      "            address = offset >> 1 # Flash words are 2 bytes\n",
      "            jtag_command(AVR_JTAG.PROG_COMMANDS, 0x0700 | (address>>8) & 0xff) # Load Address High Byte\n",
      "            jtag_command(AVR_JTAG.PROG_COMMANDS, 0x0300 | address & 0xff) # Load Address Low Byte\n",
      "            read = jtag_command(AVR_JTAG.PROG_PAGEREAD, 0)[1:]\n",
      "            if read[:len(program)-offset] != program[offset:offset+PAGE_BYTES]:\n",
      "                raise RuntimeError('Verification failed at offset {}: wrote {}, read {}'.format(\n",
      "                    offset, program[offset:offset+PAGE_BYTES], read))\n",
      "    jtag_command(AVR_JTAG.PROG_COMMANDS, 0x2300) # Exit Programming Mode\n",
      "    jtag_command(AVR_JTAG.PROG_COMMANDS, 0x3300) # Exit Programming Mode\n",
      "    jtag_command(AVR_JTAG.PROG_ENABLE, 0)\n",
      "    jtag_command(AVR_JTAG.AVR_RESET, 0)\n",
      "program_elf('/home/ignamv/programacion/avr/blinkc', verify=True)"
     ],
     "language": "python",
     "metadata": {},
     "outputs": [],
     "prompt_number": 6
    },
    {
     "cell_type": "markdown",
     "metadata": {},
     "source": [
      "Now it's time for the fuses, so we can set the clock source and other configuration bits. This is straight from page 262 of the datasheet:"
     ]
    },
    {
     "cell_type": "code",
     "collapsed": false,
     "input": [
      "def poll_fuse_write_complete():\n",
      "    while True:\n",
      "        if jtag_command(AVR_JTAG.PROG_COMMANDS, 0x3700)[1] & 2:\n",
      "            break\n",
      "def program_fuses(fuses, extended_fuses):\n",
      "    if not isinstance(fuses, int):\n",
      "        raise TypeError('Expected int for fuses')\n",
      "    jtag_command(AVR_JTAG.AVR_RESET, 1)\n",
      "    jtag_command(AVR_JTAG.PROG_ENABLE, 0xA370)\n",
      "    jtag_command(AVR_JTAG.PROG_COMMANDS, 0x2340) # Enter Fuse Write\n",
      "    jtag_command(AVR_JTAG.PROG_COMMANDS, 0x1300 | (extended_fuses & 0xff)) # Load Data Low Byte\n",
      "    jtag_command(AVR_JTAG.PROG_COMMANDS, 0x3b00) # Write Fuse Extended Byte\n",
      "    jtag_command(AVR_JTAG.PROG_COMMANDS, 0x3900) # Write Fuse Extended Byte\n",
      "    jtag_command(AVR_JTAG.PROG_COMMANDS, 0x3b00) # Write Fuse Extended Byte\n",
      "    jtag_command(AVR_JTAG.PROG_COMMANDS, 0x3b00) # Write Fuse Extended Byte\n",
      "    poll_fuse_write_complete()\n",
      "    jtag_command(AVR_JTAG.PROG_COMMANDS, 0x1300 | ((fuses >> 8) & 0xff)) # Load Data Low Byte\n",
      "    jtag_command(AVR_JTAG.PROG_COMMANDS, 0x3700) # Write Fuse High Byte\n",
      "    jtag_command(AVR_JTAG.PROG_COMMANDS, 0x3500) # Write Fuse High Byte\n",
      "    jtag_command(AVR_JTAG.PROG_COMMANDS, 0x3700) # Write Fuse High Byte\n",
      "    jtag_command(AVR_JTAG.PROG_COMMANDS, 0x3700) # Write Fuse High Byte\n",
      "    poll_fuse_write_complete()\n",
      "    jtag_command(AVR_JTAG.PROG_COMMANDS, 0x1300 | (fuses & 0xff)) # Load Data Low Byte\n",
      "    jtag_command(AVR_JTAG.PROG_COMMANDS, 0x3300) # Write Fuse High Byte\n",
      "    jtag_command(AVR_JTAG.PROG_COMMANDS, 0x3100) # Write Fuse High Byte\n",
      "    jtag_command(AVR_JTAG.PROG_COMMANDS, 0x3300) # Write Fuse High Byte\n",
      "    jtag_command(AVR_JTAG.PROG_COMMANDS, 0x3300) # Write Fuse High Byte\n",
      "    poll_fuse_write_complete()\n",
      "def read_fuses_locks():\n",
      "    jtag_command(AVR_JTAG.AVR_RESET, 1)\n",
      "    jtag_command(AVR_JTAG.PROG_ENABLE, 0xA370)\n",
      "    jtag_command(AVR_JTAG.PROG_COMMANDS, 0x2304) # Enter Fuse/Lock Bit Read\n",
      "    jtag_command(AVR_JTAG.PROG_COMMANDS, 0x3a00) # Read fuses and lock bits\n",
      "    extended = jtag_command(AVR_JTAG.PROG_COMMANDS, 0x3e00)[0] # Read fuses and lock bits\n",
      "    high = jtag_command(AVR_JTAG.PROG_COMMANDS, 0x3200)[0] # Read fuses and lock bits\n",
      "    low = jtag_command(AVR_JTAG.PROG_COMMANDS, 0x3600)[0] # Read fuses and lock bits\n",
      "    lock = jtag_command(AVR_JTAG.PROG_COMMANDS, 0x3700)[0] # Read fuses and lock bits\n",
      "    return extended, high << 8 | low, lock\n",
      "extended, fuses, lock = read_fuses_locks()\n",
      "print([hex(d) for d in [extended, fuses, lock]])\n",
      "# Set fuses for 12 MHz crystal\n",
      "#fuses = fuses | 0xf\n",
      "#program_fuses(fuses, extended)\n",
      "#print([hex(d) for d in read_fuses_locks()])"
     ],
     "language": "python",
     "metadata": {},
     "outputs": [
      {
       "output_type": "stream",
       "stream": "stdout",
       "text": [
        "['0xff', '0x99ff', '0xff']\n",
        "['0xff', '0x99ff', '0xff']\n"
       ]
      }
     ],
     "prompt_number": 79
    },
    {
     "cell_type": "markdown",
     "metadata": {},
     "source": [
      "Let's start with C. The C compiler generates object files with all the code and constants the program needs to run. It's our job to get that data to RAM and Flash, and to tell the linker where everything will be available at run time.\n",
      "\n",
      "This requires a linker script and a startup routine to initialize RAM. This is explained in more detail in the [linker documentation](https://sourceware.org/binutils/docs/ld/Output-Section-LMA.html#Output-Section-LMA).\n",
      "\n",
      "    /* FILE linker.ld */\n",
      "    MEMORY\n",
      "    {\n",
      "        flash (rx) : ORIGIN = 0, LENGTH = 16K\n",
      "        sram (rw) : ORIGIN = 0x100, LENGTH = 1K\n",
      "    }\n",
      "\n",
      "    SECTIONS\n",
      "    {\n",
      "        .text : {   KEEP(*(.startup))\n",
      "                    *(.text)\n",
      "                    *(.progmem.data)\n",
      "                    _textend = .;\n",
      "                } > flash\n",
      "        .mdata : {  _datastart = .;\n",
      "                    *(.rodata);\n",
      "                    *(.data);\n",
      "                    _dataend = .;\n",
      "                } > sram AT> flash\n",
      "        .bss : {    _bssstart = .;\n",
      "                    *(.bss);\n",
      "                    _bssend = .;\n",
      "                } > sram\n",
      "    }\n",
      "\n",
      "    ENTRY(startup)\n",
      "\n",
      "\n",
      "    // FILE startup.c\n",
      "    #include <avr/io.h>\n",
      "    #include <avr/pgmspace.h>\n",
      "\n",
      "    int stack[16];\n",
      "    extern char _textend, _datastart, _dataend, _bssend;\n",
      "\n",
      "    void startup() __attribute__((naked, section (\".startup\")));\n",
      "\n",
      "    extern int main();\n",
      "\n",
      "    void startup()\n",
      "    {\n",
      "        SP = (int)(stack + sizeof(stack) / sizeof(int));\n",
      "        char *src = &_textend;\n",
      "        char *dst = &_datastart;\n",
      "        while (dst != &_dataend)\n",
      "        {\n",
      "            *dst++ = pgm_read_byte(src++);\n",
      "        }\n",
      "        while (dst != &_bssend)\n",
      "        {\n",
      "            *dst++ = 0;\n",
      "        }\n",
      "        main();\n",
      "    }\n",
      "\n",
      "The Makefile now looks like this:\n",
      "\n",
      "    # FILE Makefile\n",
      "    CC=avr-gcc\n",
      "    LD=avr-ld\n",
      "    ASFLAGS=-mmcu=atmega162 -Wa,--gen-debug\n",
      "    CFLAGS=-g -mmcu=atmega162 -std=c99\n",
      "    LDFLAGS=-nostdlib -Tlinker.ld\n",
      "\n",
      "    OBJ=blinkc.bin\n",
      "\n",
      "    all: $(OBJ)\n",
      "\n",
      "    %.bin: %\n",
      "        avr-objcopy -O binary $< $@\n",
      "\n",
      "    blinkc: blinkc.o startup.o\n",
      "\n",
      "    .PHONY: dump clean\n",
      "\n",
      "    dump:\n",
      "        LANG=EN avr-objdump -xd blinkc\n",
      "\n",
      "    clean:\n",
      "        rm -rf $(OBJ)\n"
     ]
    },
    {
     "cell_type": "code",
     "collapsed": false,
     "input": [
      "\n",
      "jtag_command(AVR_JTAG.PROG_COMMANDS, 0x2300) # Exit Programming Mode\n",
      "jtag_command(AVR_JTAG.PROG_COMMANDS, 0x3300) # Exit Programming Mode\n",
      "jtag_command(AVR_JTAG.PROG_ENABLE, 0)\n",
      "jtag_command(AVR_JTAG.AVR_RESET, 0)"
     ],
     "language": "python",
     "metadata": {},
     "outputs": [
      {
       "metadata": {},
       "output_type": "pyout",
       "prompt_number": 88,
       "text": [
        "bytearray(b'\\x00')"
       ]
      }
     ],
     "prompt_number": 88
    },
    {
     "cell_type": "code",
     "collapsed": false,
     "input": [
      "''.join('{:02x}'.format(bb) for bb in page2)"
     ],
     "language": "python",
     "metadata": {},
     "outputs": [
      {
       "metadata": {},
       "output_type": "pyout",
       "prompt_number": 23,
       "text": [
        "'019698bbfdcf0000000000000000000000000000000000000000000000000000000000000000000000000000000000000000000000000000000000000000000000000000000000000000000000000000000000000000000000000000000000000000000000000000000000000000000000000000000000000000000000000000'"
       ]
      }
     ],
     "prompt_number": 23
    },
    {
     "cell_type": "code",
     "collapsed": false,
     "input": [
      "int('0x33')"
     ],
     "language": "python",
     "metadata": {},
     "outputs": [
      {
       "ename": "ValueError",
       "evalue": "invalid literal for int() with base 10: '0x33'",
       "output_type": "pyerr",
       "traceback": [
        "\u001b[0;31m---------------------------------------------------------------------------\u001b[0m\n\u001b[0;31mValueError\u001b[0m                                Traceback (most recent call last)",
        "\u001b[0;32m<ipython-input-213-dbc23c8149ca>\u001b[0m in \u001b[0;36m<module>\u001b[0;34m()\u001b[0m\n\u001b[0;32m----> 1\u001b[0;31m \u001b[0mint\u001b[0m\u001b[0;34m(\u001b[0m\u001b[0;34m'0x33'\u001b[0m\u001b[0;34m)\u001b[0m\u001b[0;34m\u001b[0m\u001b[0m\n\u001b[0m",
        "\u001b[0;31mValueError\u001b[0m: invalid literal for int() with base 10: '0x33'"
       ]
      }
     ],
     "prompt_number": 213
    },
    {
     "cell_type": "code",
     "collapsed": false,
     "input": [
      "\n",
      "dev = BitBangDevice(bitbang_mode=BITMODE_SYNCBB)\n",
      "dev.direction = TMS | TDI | TCK\n",
      "#program_elf('/home/ignamv/programacion/avr/serial')\n",
      "program_elf('/home/ignamv/programacion/avr/usbtiny00/main.elf')"
     ],
     "language": "python",
     "metadata": {},
     "outputs": [],
     "prompt_number": 179
    },
    {
     "cell_type": "code",
     "collapsed": false,
     "input": [
      "import pylibftdi\n",
      "pylibftdi"
     ],
     "language": "python",
     "metadata": {},
     "outputs": [
      {
       "metadata": {},
       "output_type": "pyout",
       "prompt_number": 191,
       "text": [
        "<module 'pylibftdi' from '/home/ignamv/env/pylibftdi/__init__.py'>"
       ]
      }
     ],
     "prompt_number": 191
    },
    {
     "cell_type": "code",
     "collapsed": false,
     "input": [
      "from pylibftdi import Device\n",
      "port = Device(mode='t')\n",
      "port.baudrate = 9600"
     ],
     "language": "python",
     "metadata": {},
     "outputs": [],
     "prompt_number": 209
    },
    {
     "cell_type": "code",
     "collapsed": false,
     "input": [
      "port.write('abcde')"
     ],
     "language": "python",
     "metadata": {},
     "outputs": [
      {
       "metadata": {},
       "output_type": "pyout",
       "prompt_number": 202,
       "text": [
        "5"
       ]
      }
     ],
     "prompt_number": 202
    },
    {
     "cell_type": "code",
     "collapsed": false,
     "input": [
      "print(port.read(10))"
     ],
     "language": "python",
     "metadata": {},
     "outputs": [
      {
       "output_type": "stream",
       "stream": "stdout",
       "text": [
        "\n"
       ]
      }
     ],
     "prompt_number": 212
    },
    {
     "cell_type": "code",
     "collapsed": false,
     "input": [],
     "language": "python",
     "metadata": {},
     "outputs": []
    },
    {
     "cell_type": "code",
     "collapsed": false,
     "input": [
      "RS = 1 << 4\n",
      "EN = 1 << 5\n",
      "def write(bytes, data=True):\n",
      "    rs = bool(data) * RS\n",
      "    stream = []\n",
      "    for bb in bytes:\n",
      "        stream.append(EN + rs + bb>>4)\n",
      "        stream.append(     rs + bb>>4)\n",
      "        stream.append(EN + rs + bb&0xff)\n",
      "        stream.append(     rs + bb&0xff)\n",
      "    tty.write(bytearray(stream))\n",
      "    tty.flush()\n",
      "tty.write(bytearray([2+EN, 2])) # Data length 4 bits\n",
      "write([0x28, # Function set 2 lines\n",
      "       0x0f, # Display and cursor on, blink\n",
      "       0x06],# Increment address on each write\n",
      "      False)"
     ],
     "language": "python",
     "metadata": {},
     "outputs": [],
     "prompt_number": 367
    },
    {
     "cell_type": "code",
     "collapsed": false,
     "input": [
      "def init():\n",
      "    tty.write(bytearray([2+EN, 2])) # Data length 4 bits\n",
      "def clear():\n",
      "    write([1], data=False)\n",
      "def lcdreturn():\n",
      "    write([2], data=False)\n",
      "def entrymode(increment=True, shift=False):\n",
      "    write([4+2*increment+1*shift], data=False)\n",
      "def displaycontrol(on=True, cursor=True, blink=False):\n",
      "    write([8+4*on+2*cursor+1*blink], data=False)\n",
      "def functionset():\n",
      "    write([0x28], data=False)\n",
      "def setaddress(address):\n",
      "    write([0x80+address], data=False)"
     ],
     "language": "python",
     "metadata": {},
     "outputs": [],
     "prompt_number": 370
    },
    {
     "cell_type": "code",
     "collapsed": false,
     "input": [
      "init()\n",
      "functionset()\n",
      "entrymode()\n",
      "displaycontrol(blink=True)\n",
      "clear()"
     ],
     "language": "python",
     "metadata": {},
     "outputs": [],
     "prompt_number": 385
    },
    {
     "cell_type": "code",
     "collapsed": false,
     "input": [
      "write('Hola'.encode('ascii'))"
     ],
     "language": "python",
     "metadata": {},
     "outputs": [],
     "prompt_number": 378
    },
    {
     "cell_type": "code",
     "collapsed": false,
     "input": [
      "write([0x08], False)"
     ],
     "language": "python",
     "metadata": {},
     "outputs": [],
     "prompt_number": 368
    },
    {
     "cell_type": "code",
     "collapsed": false,
     "input": [
      "write(0x1, False)"
     ],
     "language": "python",
     "metadata": {},
     "outputs": [],
     "prompt_number": 323
    },
    {
     "cell_type": "code",
     "collapsed": false,
     "input": [
      "a=50"
     ],
     "language": "python",
     "metadata": {},
     "outputs": [],
     "prompt_number": 9
    },
    {
     "cell_type": "code",
     "collapsed": false,
     "input": [
      "[int(b) for b in int(50e6).to_bytes(4, 'big')]"
     ],
     "language": "python",
     "metadata": {},
     "outputs": [
      {
       "metadata": {},
       "output_type": "pyout",
       "prompt_number": 15,
       "text": [
        "[2, 250, 240, 128]"
       ]
      }
     ],
     "prompt_number": 15
    },
    {
     "cell_type": "code",
     "collapsed": false,
     "input": [
      "2e3 * 5 * 256"
     ],
     "language": "python",
     "metadata": {},
     "outputs": [
      {
       "metadata": {},
       "output_type": "pyout",
       "prompt_number": 25,
       "text": [
        "20480000.0"
       ]
      }
     ],
     "prompt_number": 25
    },
    {
     "cell_type": "code",
     "collapsed": false,
     "input": [
      "2e6 / 5 / 256"
     ],
     "language": "python",
     "metadata": {},
     "outputs": [
      {
       "metadata": {},
       "output_type": "pyout",
       "prompt_number": 29,
       "text": [
        "1562.5"
       ]
      }
     ],
     "prompt_number": 29
    },
    {
     "cell_type": "code",
     "collapsed": false,
     "input": [
      "import "
     ],
     "language": "python",
     "metadata": {},
     "outputs": [
      {
       "metadata": {},
       "output_type": "pyout",
       "prompt_number": 50,
       "text": [
        "pylibftdi.bitbang.BitBangDevice"
       ]
      }
     ],
     "prompt_number": 50
    },
    {
     "cell_type": "code",
     "collapsed": false,
     "input": [],
     "language": "python",
     "metadata": {},
     "outputs": []
    }
   ],
   "metadata": {}
  }
 ]
}